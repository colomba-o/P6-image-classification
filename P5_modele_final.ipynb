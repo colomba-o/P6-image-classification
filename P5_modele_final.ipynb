{
  "nbformat": 4,
  "nbformat_minor": 0,
  "metadata": {
    "colab": {
      "name": "P5_modele_final.ipynb",
      "provenance": [],
      "collapsed_sections": [],
      "authorship_tag": "ABX9TyOx+xoJFaa42HpKH5CPO/o/",
      "include_colab_link": true
    },
    "kernelspec": {
      "name": "python3",
      "display_name": "Python 3"
    }
  },
  "cells": [
    {
      "cell_type": "markdown",
      "metadata": {
        "id": "view-in-github",
        "colab_type": "text"
      },
      "source": [
        "<a href=\"https://colab.research.google.com/github/colomba-o/P6-image-classification/blob/main/P5_modele_final.ipynb\" target=\"_parent\"><img src=\"https://colab.research.google.com/assets/colab-badge.svg\" alt=\"Open In Colab\"/></a>"
      ]
    },
    {
      "cell_type": "markdown",
      "metadata": {
        "id": "Q_nsBCUU6Lil"
      },
      "source": [
        "\n",
        "# PROJET 5 : Catégorisez automatiquement des questions"
      ]
    },
    {
      "cell_type": "markdown",
      "metadata": {
        "id": "jzoPYPv0PQMx"
      },
      "source": [
        "## Modèle final sélectionné\n",
        "\n",
        "Enregistrement du modèle afin de le tester avec une REST API."
      ]
    },
    {
      "cell_type": "code",
      "metadata": {
        "id": "8hJUfsEH6F6q",
        "outputId": "98d23e1e-a7ca-4947-d8c0-563367e471a7",
        "colab": {
          "base_uri": "https://localhost:8080/",
          "height": 183
        }
      },
      "source": [
        "import nltk\n",
        "import numpy as np\n",
        "import pandas as pd\n",
        "import pickle\n",
        "import warnings\n",
        "import re\n",
        "import scipy\n",
        "import string\n",
        "\n",
        "from sklearn.naive_bayes import MultinomialNB\n",
        "from sklearn.svm import LinearSVC\n",
        "from sklearn.multiclass import OneVsRestClassifier\n",
        "from bs4 import BeautifulSoup\n",
        "from nltk.corpus import stopwords\n",
        "from nltk.tokenize import sent_tokenize, word_tokenize\n",
        "from nltk.tokenize import RegexpTokenizer\n",
        "from nltk.stem import WordNetLemmatizer\n",
        "from nltk.tokenize import ToktokTokenizer\n",
        "from sklearn import model_selection\n",
        "from sklearn.externals import joblib\n",
        "from sklearn.feature_extraction.text import CountVectorizer\n",
        "from sklearn.feature_extraction.text import TfidfVectorizer\n",
        "from sklearn.model_selection import train_test_split\n",
        "from sklearn.model_selection import GridSearchCV\n",
        "\n",
        "\n",
        "nltk.download('wordnet')\n",
        "nltk.download('stopwords')\n",
        "nltk.download('averaged_perceptron_tagger')\n",
        "warnings.filterwarnings(\"ignore\")"
      ],
      "execution_count": null,
      "outputs": [
        {
          "output_type": "stream",
          "text": [
            "/usr/local/lib/python3.6/dist-packages/sklearn/externals/joblib/__init__.py:15: FutureWarning: sklearn.externals.joblib is deprecated in 0.21 and will be removed in 0.23. Please import this functionality directly from joblib, which can be installed with: pip install joblib. If this warning is raised when loading pickled models, you may need to re-serialize those models with scikit-learn 0.21+.\n",
            "  warnings.warn(msg, category=FutureWarning)\n"
          ],
          "name": "stderr"
        },
        {
          "output_type": "stream",
          "text": [
            "[nltk_data] Downloading package wordnet to /root/nltk_data...\n",
            "[nltk_data]   Unzipping corpora/wordnet.zip.\n",
            "[nltk_data] Downloading package stopwords to /root/nltk_data...\n",
            "[nltk_data]   Unzipping corpora/stopwords.zip.\n",
            "[nltk_data] Downloading package averaged_perceptron_tagger to\n",
            "[nltk_data]     /root/nltk_data...\n",
            "[nltk_data]   Unzipping taggers/averaged_perceptron_tagger.zip.\n"
          ],
          "name": "stdout"
        }
      ]
    },
    {
      "cell_type": "code",
      "metadata": {
        "id": "7ShSIXzB6Whu",
        "outputId": "2bf386eb-b8be-46f2-c4fb-63953e1dd988",
        "colab": {
          "base_uri": "https://localhost:8080/",
          "height": 33
        }
      },
      "source": [
        "from google.colab import drive\n",
        "drive.mount('/content/drive')"
      ],
      "execution_count": null,
      "outputs": [
        {
          "output_type": "stream",
          "text": [
            "Mounted at /content/drive\n"
          ],
          "name": "stdout"
        }
      ]
    },
    {
      "cell_type": "code",
      "metadata": {
        "id": "CCjX6z_F6XZ9",
        "outputId": "77bd93f4-142c-46fe-9132-12e34f088f59",
        "colab": {
          "base_uri": "https://localhost:8080/",
          "height": 53
        }
      },
      "source": [
        "stop_words = nltk.corpus.stopwords.words('english')\n",
        "l = [\"use\", \"using\", \"used\", \"get\", \"got\", \"getting\", \n",
        "     \"taking\", \"like\", \"would\", \"want\", \"wait\", \"need\", \"needs\", \"try\", \"tried\", \"trying\", \"if\", \"a\", \"b\", \n",
        "     \"d\", \"e\", \"f\", \"g\", \"h\" \"i\", \"j\", \"k\", \"l\", \"m\", \"n\", \"o\", \"p\", \"q\", \"s\", \"t\", \"u\", \"v\", \"w\", \"x\", \n",
        "     \"y\", \"z\", \"http\", \"www\", \"follow\", \"write\", \"way\",\"also\",\"make\", \"one\",\"example\",\"number\",\"good\", \"best\" , \n",
        "     \"better\", \"without\", \"com\", \" \", \"--\", \"work\", \"see\", \"look\", \"know\", \"seem\", \"find\", \"create\", \"give\",\n",
        "     \"could\", \"think\", \"div\", \"understand\", \"+\", \"something\", \"line\", \"set\", \"question\", \"answer\", \"thing\", \n",
        "     \"mean\", \"solution\"]\n",
        "\n",
        "stop_words= stop_words + l\n",
        "print(stop_words)"
      ],
      "execution_count": null,
      "outputs": [
        {
          "output_type": "stream",
          "text": [
            "['i', 'me', 'my', 'myself', 'we', 'our', 'ours', 'ourselves', 'you', \"you're\", \"you've\", \"you'll\", \"you'd\", 'your', 'yours', 'yourself', 'yourselves', 'he', 'him', 'his', 'himself', 'she', \"she's\", 'her', 'hers', 'herself', 'it', \"it's\", 'its', 'itself', 'they', 'them', 'their', 'theirs', 'themselves', 'what', 'which', 'who', 'whom', 'this', 'that', \"that'll\", 'these', 'those', 'am', 'is', 'are', 'was', 'were', 'be', 'been', 'being', 'have', 'has', 'had', 'having', 'do', 'does', 'did', 'doing', 'a', 'an', 'the', 'and', 'but', 'if', 'or', 'because', 'as', 'until', 'while', 'of', 'at', 'by', 'for', 'with', 'about', 'against', 'between', 'into', 'through', 'during', 'before', 'after', 'above', 'below', 'to', 'from', 'up', 'down', 'in', 'out', 'on', 'off', 'over', 'under', 'again', 'further', 'then', 'once', 'here', 'there', 'when', 'where', 'why', 'how', 'all', 'any', 'both', 'each', 'few', 'more', 'most', 'other', 'some', 'such', 'no', 'nor', 'not', 'only', 'own', 'same', 'so', 'than', 'too', 'very', 's', 't', 'can', 'will', 'just', 'don', \"don't\", 'should', \"should've\", 'now', 'd', 'll', 'm', 'o', 're', 've', 'y', 'ain', 'aren', \"aren't\", 'couldn', \"couldn't\", 'didn', \"didn't\", 'doesn', \"doesn't\", 'hadn', \"hadn't\", 'hasn', \"hasn't\", 'haven', \"haven't\", 'isn', \"isn't\", 'ma', 'mightn', \"mightn't\", 'mustn', \"mustn't\", 'needn', \"needn't\", 'shan', \"shan't\", 'shouldn', \"shouldn't\", 'wasn', \"wasn't\", 'weren', \"weren't\", 'won', \"won't\", 'wouldn', \"wouldn't\", 'use', 'using', 'used', 'get', 'got', 'getting', 'taking', 'like', 'would', 'want', 'wait', 'need', 'needs', 'try', 'tried', 'trying', 'if', 'a', 'b', 'd', 'e', 'f', 'g', 'hi', 'j', 'k', 'l', 'm', 'n', 'o', 'p', 'q', 's', 't', 'u', 'v', 'w', 'x', 'y', 'z', 'http', 'www', 'follow', 'write', 'way', 'also', 'make', 'one', 'example', 'number', 'good', 'best', 'better', 'without', 'com', ' ', '--', 'work', 'see', 'look', 'know', 'seem', 'find', 'create', 'give', 'could', 'think', 'div', 'understand', '+', 'something', 'line', 'set', 'question', 'answer', 'thing', 'mean', 'solution']\n"
          ],
          "name": "stdout"
        }
      ]
    },
    {
      "cell_type": "code",
      "metadata": {
        "id": "CC7XThCK6Xio"
      },
      "source": [
        "def remove_braquet_tags():\n",
        "    df[\"tags\"] = df[\"tags\"].apply(lambda text: preprocessing_tag(text))\n",
        "\n",
        "\n",
        "def count_tags(data):\n",
        "    \"\"\" Fonction qui permet de compter les différents tags, de les classer et de donner le pourcentage\n",
        "    \"\"\"\n",
        "    count_df = pd.Series(data.loc[:, question_tags_featured].squeeze().values.reshape(-1)).value_counts()\n",
        "    ct_df = pd.DataFrame({'Tag': count_df.index,\n",
        "                          'Count': count_df.values,\n",
        "                          'Pourcentage (%)': (100 * (count_df / count_df.sum())).values})\n",
        "    return ct_df\n",
        "\n",
        "\n",
        "def cloud(text, color_back, title):\n",
        "    wordcloud = WordCloud(background_color=color_back, stopwords=stop_words, max_words=100).generate(\" \".join([i for i in text.str.upper()]))\n",
        "    #wordcloud = WordCloud(background_color=color_back, max_words=100).generate(\" \".join([i for i in text.str.upper()]))\n",
        "    plt.figure(figsize=(15,10))\n",
        "    plt.imshow(wordcloud)\n",
        "    plt.axis(\"off\")\n",
        "    plt.title(title)\n",
        "    \n",
        "\n",
        "def replace_words(string_to_process):\n",
        "    string_to_process = re.sub(\"c#\",\"csharp\",string_to_process)\n",
        "    string_to_process = re.sub(\".net\",\"dotnet\",string_to_process)\n",
        "    string_to_process = re.sub(\".js\",\"js\",string_to_process)\n",
        "    string_to_process = re.sub(\"dos2unix\",\"dostounix\",string_to_process)\n",
        "    string_to_process = re.sub(\".io\",\"io\",string_to_process)\n",
        "    string_to_process = re.sub(\"sqlserver2008r2\",\"sqlserverrtwo\",string_to_process)\n",
        "    string_to_process = re.sub(\"request.form\",\"requestform\",string_to_process)\n",
        "    string_to_process = re.sub(\"html5\",\"htmlfive\",string_to_process)\n",
        "    string_to_process = re.sub(\"system.diagnostics\",\"systemdiagnostics\",string_to_process)\n",
        "    string_to_process = re.sub(\".conf\",\"conf\",string_to_process)\n",
        "    string_to_process = re.sub(\".py\",\"py\",string_to_process)\n",
        "    string_to_process = re.sub(\".out\",\"out\",string_to_process)\n",
        "    return string_to_process\n",
        "\n",
        "\n",
        "def preprocessing_tag(tags_string):\n",
        "    tags_string = tags_string.lower()\n",
        "    tags_string = tags_string.replace(\"><\", \" \")\n",
        "    tags_string = tags_string.replace(\">\", \"\")\n",
        "    tags_string = tags_string.replace(\"<\", \"\")\n",
        "    tags_string = tags_string.replace(\"-\", \"\")\n",
        "    tags_string = replace_words(tags_string)\n",
        "    tags_string = re.sub(\"[^a-zA-Z]\", \" \", tags_string) \n",
        "    tags = tags_string.split()\n",
        "    tags = set(tags)\n",
        "    return ' '.join(str(lemma.lemmatize(j)) for j in tags if (len(j)!=1 or j=='c' or j=='r'))\n",
        "\n",
        "\n",
        "def preprocessing_body(string_to_process):\n",
        "    string_to_process = BeautifulSoup(string_to_process, \"lxml\").text\n",
        "    return preprocessing_text(string_to_process)\n",
        "\n",
        "def remove_html(string_to_process):\n",
        "    string_to_process = BeautifulSoup(string_to_process, \"lxml\").text\n",
        "    return string_to_process\n",
        "\n",
        "def preprocessing_text(string_to_process):\n",
        "    #print(\"avant \"+string_to_process)\n",
        "    # all the string in lower \n",
        "    string_to_process = string_to_process.lower() \n",
        "    #print(\"lower \"+string_to_process)\n",
        "    string_to_process = string_to_process.replace(\"-\", \"\")\n",
        "    string_to_process = replace_words(string_to_process)\n",
        "    \n",
        "    # remove ponctuation\n",
        "    tokenizer = RegexpTokenizer(r'\\w+')\n",
        "    #words = tokenizer.tokenize(string_to_process)\n",
        "    \n",
        "    # 2. Retirer ce qui n'est pas une lettre alphabétique       \n",
        "    letters_numbers_only = re.sub(\"[^a-zA-Z#+\\-]\", \" \", string_to_process) \n",
        "\n",
        "    # 3. Découpage\n",
        "    words = letters_numbers_only.split()    \n",
        "\n",
        "    # 4. remove stop words and keep only nouns\n",
        "    words =' '.join(str(lemma.lemmatize(j)) for j in words if j not in stop_words and (len(j)!=1 or j=='c' or j=='r'))\n",
        "    return words.lstrip()\n",
        "\n",
        "\n",
        "def lemmatization(text):\n",
        "    words=token.tokenize(text)\n",
        "    listLemma=[]\n",
        "    for w in words:  \n",
        "        x=lemma.lemmatize(w, pos=\"v\")\n",
        "        listLemma.append(x)\n",
        "    return ' '.join(map(str, listLemma))\n",
        "\n",
        "\n",
        "def remove_stopwords(text): \n",
        "    words=token.tokenize(text)\n",
        "    filtered = [w for w in words if not w in stop_words]\n",
        "    return ' '.join(map(str, filtered))\n",
        "\n",
        "\n",
        "def keep_nouns_only(text): \n",
        "    words=token.tokenize(text)\n",
        "    filtered = [w for w in words if (nltk.pos_tag([w])[0][1][0] == \"N\")]\n",
        "    return ' '.join(map(str, filtered))\n",
        "\n",
        "\n",
        "def length_nb_question(data_df):\n",
        "    len_post_before = 0\n",
        "    questions_before = 0\n",
        "    for question in data_df:   \n",
        "        len_post_before +=len(question)\n",
        "        questions_before += 1\n",
        "    return questions_before, len_post_before\n",
        "\n",
        "\n",
        "def print_summerize_questions(questions_before, questions_after, len_post_before, len_post_after):\n",
        "    print(\"number of questions before=\",questions_before) \n",
        "    print(\"number of questions completed=\",questions_after)        \n",
        "    no_dup_avg_len_post_before=(len_post_before*1.0)/questions_before\n",
        "    no_dup_avg_len_post=(len_post_after*1.0)/questions_after\n",
        "    print( \"Avg. length of questions(Title+Body) before processing: %d\"%no_dup_avg_len_post_before)\n",
        "    print( \"Avg. length of questions(Title+Body) after processing: %d\"%no_dup_avg_len_post)\n",
        "\n",
        "\n",
        "def target_processing(tags):\n",
        "    new_tags = \"\"\n",
        "    tags_words = tags.split(\" \")\n",
        "    for tag in tags_words : \n",
        "      \n",
        "      if (tag in SELECTED_TAGS) :\n",
        "        new_tags = new_tags + ' ' + tag \n",
        "      new_tags.lstrip()  \n",
        "    return new_tags\n",
        "\n",
        "    \n",
        "def nb_apparition_tag_questions(nb_tags):\n",
        "    tags_most_common = tags_frequence.most_common(nb_tags)\n",
        "    tags_df = pd.DataFrame(tags_most_common, columns = ['tags' , 'nb_tags']) \n",
        "    tags_df.columns\n",
        "    tags_df = tags_df.sort_values(['nb_tags'], ascending=False)\n",
        "    return tags_df\n",
        "\n",
        "\n",
        "def list_n_first_tags(n):\n",
        "  new_df = tags_df.iloc[:n]\n",
        "  new_tags_df = new_df[[\"tags\"]].transpose()\n",
        "  list_first_tags = new_tags_df.to_numpy()\n",
        "  list_first_tags = list_first_tags[0]\n",
        "  list_first_tags = list_first_tags.tolist()\n",
        "  return list_first_tags"
      ],
      "execution_count": null,
      "outputs": []
    },
    {
      "cell_type": "markdown",
      "metadata": {
        "id": "PY_fWkgd6ipw"
      },
      "source": [
        "## Data"
      ]
    },
    {
      "cell_type": "code",
      "metadata": {
        "id": "h45eDscI6Xfy"
      },
      "source": [
        "df = pd.read_csv('/content/drive/My Drive/Colab Notebooks/data/data_p5.csv',index_col=None, header=0, encoding='utf-8')\n",
        "lemma = nltk.wordnet.WordNetLemmatizer()\n",
        "token = ToktokTokenizer()"
      ],
      "execution_count": null,
      "outputs": []
    },
    {
      "cell_type": "code",
      "metadata": {
        "id": "ukQw0N0rLNNI",
        "outputId": "eddb842b-8282-4ed6-bb04-5951d702f9f7",
        "colab": {
          "base_uri": "https://localhost:8080/",
          "height": 191
        }
      },
      "source": [
        "df.head()"
      ],
      "execution_count": null,
      "outputs": [
        {
          "output_type": "execute_result",
          "data": {
            "text/html": [
              "<div>\n",
              "<style scoped>\n",
              "    .dataframe tbody tr th:only-of-type {\n",
              "        vertical-align: middle;\n",
              "    }\n",
              "\n",
              "    .dataframe tbody tr th {\n",
              "        vertical-align: top;\n",
              "    }\n",
              "\n",
              "    .dataframe thead th {\n",
              "        text-align: right;\n",
              "    }\n",
              "</style>\n",
              "<table border=\"1\" class=\"dataframe\">\n",
              "  <thead>\n",
              "    <tr style=\"text-align: right;\">\n",
              "      <th></th>\n",
              "      <th>title</th>\n",
              "      <th>body</th>\n",
              "      <th>tags</th>\n",
              "    </tr>\n",
              "  </thead>\n",
              "  <tbody>\n",
              "    <tr>\n",
              "      <th>0</th>\n",
              "      <td>How can I remove duplicate rows?</td>\n",
              "      <td>&lt;p&gt;What is the best way to remove duplicate ro...</td>\n",
              "      <td>&lt;sql-server&gt;&lt;tsql&gt;&lt;duplicates&gt;</td>\n",
              "    </tr>\n",
              "    <tr>\n",
              "      <th>1</th>\n",
              "      <td>How can I pass arguments to a batch file?</td>\n",
              "      <td>&lt;p&gt;I need to pass an ID and a password to a ba...</td>\n",
              "      <td>&lt;batch-file&gt;&lt;arguments&gt;</td>\n",
              "    </tr>\n",
              "    <tr>\n",
              "      <th>2</th>\n",
              "      <td>Where can I learn jQuery? Is it worth it?</td>\n",
              "      <td>&lt;p&gt;I've had a lot of good experiences learning...</td>\n",
              "      <td>&lt;javascript&gt;&lt;jquery&gt;&lt;review&gt;</td>\n",
              "    </tr>\n",
              "    <tr>\n",
              "      <th>3</th>\n",
              "      <td>Getting all types that implement an interface</td>\n",
              "      <td>&lt;p&gt;Using reflection, how can I get all types t...</td>\n",
              "      <td>&lt;c#&gt;&lt;optimization&gt;&lt;reflection&gt;&lt;lambda&gt;&lt;c#-3.0&gt;</td>\n",
              "    </tr>\n",
              "    <tr>\n",
              "      <th>4</th>\n",
              "      <td>Why am I getting a NoClassDefFoundError in Java?</td>\n",
              "      <td>&lt;p&gt;I am getting a &lt;code&gt;NoClassDefFoundError&lt;/...</td>\n",
              "      <td>&lt;java&gt;&lt;noclassdeffounderror&gt;</td>\n",
              "    </tr>\n",
              "  </tbody>\n",
              "</table>\n",
              "</div>"
            ],
            "text/plain": [
              "                                              title  ...                                            tags\n",
              "0                  How can I remove duplicate rows?  ...                  <sql-server><tsql><duplicates>\n",
              "1         How can I pass arguments to a batch file?  ...                         <batch-file><arguments>\n",
              "2         Where can I learn jQuery? Is it worth it?  ...                    <javascript><jquery><review>\n",
              "3     Getting all types that implement an interface  ...  <c#><optimization><reflection><lambda><c#-3.0>\n",
              "4  Why am I getting a NoClassDefFoundError in Java?  ...                    <java><noclassdeffounderror>\n",
              "\n",
              "[5 rows x 3 columns]"
            ]
          },
          "metadata": {
            "tags": []
          },
          "execution_count": 6
        }
      ]
    },
    {
      "cell_type": "markdown",
      "metadata": {
        "id": "usikVbO06s09"
      },
      "source": [
        "## Paramètres du notebook"
      ]
    },
    {
      "cell_type": "code",
      "metadata": {
        "id": "uro7AxYB6XdY"
      },
      "source": [
        "nb_selected_tags = 200\n",
        "MIN_DF = 1"
      ],
      "execution_count": null,
      "outputs": []
    },
    {
      "cell_type": "markdown",
      "metadata": {
        "id": "Eq1ZD7K06062"
      },
      "source": [
        "## Pre-processing"
      ]
    },
    {
      "cell_type": "markdown",
      "metadata": {
        "id": "4Hqk7_-a6-O8"
      },
      "source": [
        "### Tags"
      ]
    },
    {
      "cell_type": "code",
      "metadata": {
        "id": "MXD5lSL-6xHc"
      },
      "source": [
        "remove_braquet_tags()"
      ],
      "execution_count": null,
      "outputs": []
    },
    {
      "cell_type": "code",
      "metadata": {
        "id": "n42rwvLE6xP8"
      },
      "source": [
        "df[\"nb_tags\"] = df[\"tags\"].apply(lambda text: len(text.split()))"
      ],
      "execution_count": null,
      "outputs": []
    },
    {
      "cell_type": "code",
      "metadata": {
        "id": "Od60ah5O6xWv"
      },
      "source": [
        "df['tags_list'] = df['tags'].apply(lambda x: x.split())\n",
        "tags_list = [item for sublist in df['tags_list'].values for item in sublist]"
      ],
      "execution_count": null,
      "outputs": []
    },
    {
      "cell_type": "code",
      "metadata": {
        "id": "7ZKnyqLc6xbK"
      },
      "source": [
        "tags_unique_list = list(set(tags_list))"
      ],
      "execution_count": null,
      "outputs": []
    },
    {
      "cell_type": "code",
      "metadata": {
        "id": "IISMiLXK7Sp5"
      },
      "source": [
        "tags_frequence= nltk.FreqDist(tags_list)\n",
        "words_most_common = tags_frequence.most_common(20)"
      ],
      "execution_count": null,
      "outputs": []
    },
    {
      "cell_type": "code",
      "metadata": {
        "id": "eZXcKynL-1sU"
      },
      "source": [
        "tags_df = nb_apparition_tag_questions(len(tags_unique_list))"
      ],
      "execution_count": null,
      "outputs": []
    },
    {
      "cell_type": "code",
      "metadata": {
        "id": "j85VzRrB7Syu"
      },
      "source": [
        "SELECTED_TAGS = list_n_first_tags(nb_selected_tags)"
      ],
      "execution_count": null,
      "outputs": []
    },
    {
      "cell_type": "code",
      "metadata": {
        "id": "L8edV7x67S-8"
      },
      "source": [
        "df['new_tags'] = df[\"tags\"].apply(lambda text : target_processing(text))"
      ],
      "execution_count": null,
      "outputs": []
    },
    {
      "cell_type": "code",
      "metadata": {
        "id": "v0hnEYXo7S76"
      },
      "source": [
        "selected_tags_df = pd.DataFrame(SELECTED_TAGS, columns=['selected_tags'])"
      ],
      "execution_count": null,
      "outputs": []
    },
    {
      "cell_type": "code",
      "metadata": {
        "id": "YsrIBmQl7S5U"
      },
      "source": [
        "df = df[df[\"new_tags\"] != \"\"]"
      ],
      "execution_count": null,
      "outputs": []
    },
    {
      "cell_type": "code",
      "metadata": {
        "id": "XvmoGSIg7sos"
      },
      "source": [
        "df[\"nb_new_tags\"] = df[\"new_tags\"].apply(lambda text: len(text.split()))"
      ],
      "execution_count": null,
      "outputs": []
    },
    {
      "cell_type": "code",
      "metadata": {
        "id": "lfRfcwdF3SyX",
        "outputId": "8343052f-dc8b-4212-cd6d-658dc4e1272e",
        "colab": {
          "base_uri": "https://localhost:8080/",
          "height": 223
        }
      },
      "source": [
        "df.head()"
      ],
      "execution_count": null,
      "outputs": [
        {
          "output_type": "execute_result",
          "data": {
            "text/html": [
              "<div>\n",
              "<style scoped>\n",
              "    .dataframe tbody tr th:only-of-type {\n",
              "        vertical-align: middle;\n",
              "    }\n",
              "\n",
              "    .dataframe tbody tr th {\n",
              "        vertical-align: top;\n",
              "    }\n",
              "\n",
              "    .dataframe thead th {\n",
              "        text-align: right;\n",
              "    }\n",
              "</style>\n",
              "<table border=\"1\" class=\"dataframe\">\n",
              "  <thead>\n",
              "    <tr style=\"text-align: right;\">\n",
              "      <th></th>\n",
              "      <th>title</th>\n",
              "      <th>body</th>\n",
              "      <th>tags</th>\n",
              "      <th>nb_tags</th>\n",
              "      <th>tags_list</th>\n",
              "      <th>new_tags</th>\n",
              "      <th>nb_new_tags</th>\n",
              "    </tr>\n",
              "  </thead>\n",
              "  <tbody>\n",
              "    <tr>\n",
              "      <th>0</th>\n",
              "      <td>How can I remove duplicate rows?</td>\n",
              "      <td>&lt;p&gt;What is the best way to remove duplicate ro...</td>\n",
              "      <td>sqlserver duplicate tsql</td>\n",
              "      <td>3</td>\n",
              "      <td>[sqlserver, duplicate, tsql]</td>\n",
              "      <td>sqlserver tsql</td>\n",
              "      <td>2</td>\n",
              "    </tr>\n",
              "    <tr>\n",
              "      <th>1</th>\n",
              "      <td>How can I pass arguments to a batch file?</td>\n",
              "      <td>&lt;p&gt;I need to pass an ID and a password to a ba...</td>\n",
              "      <td>batchfile argument</td>\n",
              "      <td>2</td>\n",
              "      <td>[batchfile, argument]</td>\n",
              "      <td>batchfile</td>\n",
              "      <td>1</td>\n",
              "    </tr>\n",
              "    <tr>\n",
              "      <th>2</th>\n",
              "      <td>Where can I learn jQuery? Is it worth it?</td>\n",
              "      <td>&lt;p&gt;I've had a lot of good experiences learning...</td>\n",
              "      <td>review javascript jquery</td>\n",
              "      <td>3</td>\n",
              "      <td>[review, javascript, jquery]</td>\n",
              "      <td>javascript jquery</td>\n",
              "      <td>2</td>\n",
              "    </tr>\n",
              "    <tr>\n",
              "      <th>3</th>\n",
              "      <td>Getting all types that implement an interface</td>\n",
              "      <td>&lt;p&gt;Using reflection, how can I get all types t...</td>\n",
              "      <td>csharp reflecion optimizaion lambda</td>\n",
              "      <td>4</td>\n",
              "      <td>[csharp, reflecion, optimizaion, lambda]</td>\n",
              "      <td>csharp reflecion optimizaion lambda</td>\n",
              "      <td>4</td>\n",
              "    </tr>\n",
              "    <tr>\n",
              "      <th>4</th>\n",
              "      <td>Why am I getting a NoClassDefFoundError in Java?</td>\n",
              "      <td>&lt;p&gt;I am getting a &lt;code&gt;NoClassDefFoundError&lt;/...</td>\n",
              "      <td>noclassdeffounderror java</td>\n",
              "      <td>2</td>\n",
              "      <td>[noclassdeffounderror, java]</td>\n",
              "      <td>java</td>\n",
              "      <td>1</td>\n",
              "    </tr>\n",
              "  </tbody>\n",
              "</table>\n",
              "</div>"
            ],
            "text/plain": [
              "                                              title  ... nb_new_tags\n",
              "0                  How can I remove duplicate rows?  ...           2\n",
              "1         How can I pass arguments to a batch file?  ...           1\n",
              "2         Where can I learn jQuery? Is it worth it?  ...           2\n",
              "3     Getting all types that implement an interface  ...           4\n",
              "4  Why am I getting a NoClassDefFoundError in Java?  ...           1\n",
              "\n",
              "[5 rows x 7 columns]"
            ]
          },
          "metadata": {
            "tags": []
          },
          "execution_count": 19
        }
      ]
    },
    {
      "cell_type": "markdown",
      "metadata": {
        "id": "Ive1Y8k_8CBI"
      },
      "source": [
        "### Corpus"
      ]
    },
    {
      "cell_type": "code",
      "metadata": {
        "id": "6LCzd5607sv_"
      },
      "source": [
        "df['body'] = df['body'].apply(lambda x: remove_html(x))"
      ],
      "execution_count": null,
      "outputs": []
    },
    {
      "cell_type": "code",
      "metadata": {
        "id": "bxmpZjpA7s2Z"
      },
      "source": [
        "df['title_title_title_body'] = df['title'] + \" \" + df['title'] + \" \" + df['title'] + \" \" + df['body'] "
      ],
      "execution_count": null,
      "outputs": []
    },
    {
      "cell_type": "code",
      "metadata": {
        "id": "UmsuuSv17s-S"
      },
      "source": [
        "df['title_title_title_body'] = df['title_title_title_body'].apply(lambda x: preprocessing_text(x))"
      ],
      "execution_count": null,
      "outputs": []
    },
    {
      "cell_type": "code",
      "metadata": {
        "id": "zyEXTra-8Kzf"
      },
      "source": [
        "#df['title_title_title_body'] = df['title_title_title_body'].apply(lambda x: keep_nouns_only(x))"
      ],
      "execution_count": null,
      "outputs": []
    },
    {
      "cell_type": "code",
      "metadata": {
        "id": "z-YD-x6b8K8W"
      },
      "source": [
        "df['title_title_title_body'] = df['title_title_title_body'].apply(lambda x: lemmatization(x))"
      ],
      "execution_count": null,
      "outputs": []
    },
    {
      "cell_type": "code",
      "metadata": {
        "id": "h_KyEC283dtx",
        "outputId": "af374b98-a5e6-4b54-9274-e34ae61adf29",
        "colab": {
          "base_uri": "https://localhost:8080/",
          "height": 50
        }
      },
      "source": [
        "print(df.shape)\n",
        "df = df[df['body'] != \"\"]\n",
        "print(df.shape)"
      ],
      "execution_count": null,
      "outputs": [
        {
          "output_type": "stream",
          "text": [
            "(7747, 8)\n",
            "(7747, 8)\n"
          ],
          "name": "stdout"
        }
      ]
    },
    {
      "cell_type": "markdown",
      "metadata": {
        "id": "qIBtVF5V8dlU"
      },
      "source": [
        "### Modele"
      ]
    },
    {
      "cell_type": "code",
      "metadata": {
        "id": "xgRMh4fL8aSo"
      },
      "source": [
        "X_tttb = df['title_title_title_body']\n",
        "y = df['new_tags']"
      ],
      "execution_count": null,
      "outputs": []
    },
    {
      "cell_type": "code",
      "metadata": {
        "id": "lIn0DW8zVj1L",
        "outputId": "29229399-7e7d-4030-c6ad-8b0dbf2c8525",
        "colab": {
          "base_uri": "https://localhost:8080/",
          "height": 53
        }
      },
      "source": [
        "print(SELECTED_TAGS)"
      ],
      "execution_count": null,
      "outputs": [
        {
          "output_type": "stream",
          "text": [
            "['javascript', 'python', 'java', 'git', 'c', 'android', 'csharp', 'html', 'cs', 'jquery', 'io', 'dotnet', 'php', 'bash', 'string', 'nodejs', 'sql', 'mysql', 'linux', 'array', 'objectivec', 'algorithm', 'shell', 'performance', 'sqlserver', 'oop', 'angulajs', 'database', 'window', 'languageagnostic', 'http', 'github', 'multithreading', 'list', 'r', 'verioncontrol', 'macos', 'iphone', 'vim', 'panda', 'rest', 'xcode', 'unix', 'ruby', 'commandline', 'dataframe', 'faq', 'cocoatouch', 'security', 'designpatterns', 'rubyonrails', 'swift', 'regex', 'docker', 'visualstuio', 'aspdotnetmvc', 'syntax', 'aspdotnet', 'postgresql', 'ajax', 'terminology', 'tsql', 'file', 'django', 'image', 'datetime', 'object', 'eclipse', 'dicionary', 'branch', 'gitbranch', 'twitterbootstrap', 'sorting', 'pointer', 'debugging', 'url', 'funcionalprogramming', 'date', 'scala', 'rfaq', 'datastructures', 'npm', 'googlechrome', 'dom', 'unittesting', 'funcion', 'authenticaion', 'maven', 'loop', 'inheritance', 'math', 'excepion', 'ssh', 'spring', 'reacjs', 'concurrency', 'random', 'androidfragments', 'databasedesign', 'androidlaout', 'xml', 'browser', 'optimizaion', 'architecture', 'class', 'asynchronous', 'ubuntu', 'merge', 'filio', 'api', 'generic', 'pip', 'mongodb', 'terminal', 'collecions', 'scripting', 'memorymanagement', 'gitignore', 'pythonpython', 'express', 'nupy', 'androidactivity', 'logging', 'androidintent', 'type', 'variable', 'memory', 'ssl', 'linq', 'directory', 'gitmerge', 'unicode', 'entityframework', 'caching', 'haskell', 'gcc', 'color', 'angular', 'time', 'join', 'svn', 'wpf', 'batchfile', 'template', 'static', 'floatingpoint', 'ecmascript', 'post', 'assembly', 'installaion', 'operator', 'dependencyinjecion', 'hibernate', 'cocoa', 'enums', 'email', 'editor', 'parsing', 'constant', 'constructor', 'reflecion', 'codingstyle', 'split', 'form', 'path', 'gitcommit', 'androidstuio', 'csv', 'grep', 'serializaion', 'json', 'null', 'interface', 'hiddenfeatures', 'userinterface', 'ide', 'vi', 'imageprocessing', 'matplotlib', 'orm', 'environmentvariables', 'utf', 'httpheaders', 'ii', 'gitchecout', 'intedotnetexplorer', 'stl', 'process', 'machinelearning', 'hash', 'indexing', 'bigo', 'package', 'programminglanguages', 'iphoneios', 'excepionhandling', 'text', 'password', 'facebook', 'lambda']\n"
          ],
          "name": "stdout"
        }
      ]
    },
    {
      "cell_type": "code",
      "metadata": {
        "id": "-E3HP_L_amc_"
      },
      "source": [
        "df['new_tags_list'] = df['new_tags']"
      ],
      "execution_count": null,
      "outputs": []
    },
    {
      "cell_type": "code",
      "metadata": {
        "id": "77V53m2Pc1Xo",
        "outputId": "4db45565-8601-46e5-c5f0-30518df6ac37",
        "colab": {
          "base_uri": "https://localhost:8080/",
          "height": 212
        }
      },
      "source": [
        "df['new_tags_list'].apply(lambda x : x.split())"
      ],
      "execution_count": null,
      "outputs": [
        {
          "output_type": "execute_result",
          "data": {
            "text/plain": [
              "0                              [sqlserver, tsql]\n",
              "1                                    [batchfile]\n",
              "2                           [javascript, jquery]\n",
              "3       [csharp, reflecion, optimizaion, lambda]\n",
              "4                                         [java]\n",
              "                          ...                   \n",
              "8188                               [git, github]\n",
              "8189                                    [docker]\n",
              "8191                                    [window]\n",
              "8192                                 [xcode, io]\n",
              "8193                             [string, swift]\n",
              "Name: new_tags_list, Length: 7747, dtype: object"
            ]
          },
          "metadata": {
            "tags": []
          },
          "execution_count": 29
        }
      ]
    },
    {
      "cell_type": "code",
      "metadata": {
        "id": "iksUPJqm85M7"
      },
      "source": [
        "y_split = y.apply(lambda x: x.split())\n",
        "vectorizer_target = CountVectorizer(tokenizer = None, binary='true')\n",
        "y_bin = vectorizer_target.fit_transform(y)"
      ],
      "execution_count": null,
      "outputs": []
    },
    {
      "cell_type": "code",
      "metadata": {
        "id": "8eWcUwr5Liz4",
        "outputId": "a3b7f7dc-2a3b-4621-9f55-1969a5b9b31e",
        "colab": {
          "base_uri": "https://localhost:8080/",
          "height": 50
        }
      },
      "source": [
        "y_bin"
      ],
      "execution_count": null,
      "outputs": [
        {
          "output_type": "execute_result",
          "data": {
            "text/plain": [
              "<7747x198 sparse matrix of type '<class 'numpy.int64'>'\n",
              "\twith 14139 stored elements in Compressed Sparse Row format>"
            ]
          },
          "metadata": {
            "tags": []
          },
          "execution_count": 31
        }
      ]
    },
    {
      "cell_type": "code",
      "metadata": {
        "id": "D-CIMEpxYT0x"
      },
      "source": [
        "pickle.dump(vectorizer_target, open('/content/drive/My Drive/Colab Notebooks/data_pickle/vectorizer_y.pickle', 'wb'))"
      ],
      "execution_count": null,
      "outputs": []
    },
    {
      "cell_type": "code",
      "metadata": {
        "id": "TVUU0oQ685S7"
      },
      "source": [
        "vectorizer_tfidf = TfidfVectorizer(analyzer=\"word\",\n",
        "                               min_df=MIN_DF,\n",
        "                               stop_words=stop_words,\n",
        "                               lowercase=True,\n",
        "                               ngram_range=(1,2),\n",
        "                               max_features=2000\n",
        "                              )"
      ],
      "execution_count": null,
      "outputs": []
    },
    {
      "cell_type": "code",
      "metadata": {
        "id": "vuqZcI2d85aE"
      },
      "source": [
        "X_tttb_tfidf = vectorizer_tfidf.fit_transform(X_tttb)"
      ],
      "execution_count": null,
      "outputs": []
    },
    {
      "cell_type": "code",
      "metadata": {
        "id": "osy8o0fQeXsj"
      },
      "source": [
        "pickle.dump(vectorizer_tfidf, open('/content/drive/My Drive/Colab Notebooks/data_pickle/vectorizer_X.pickle', 'wb'))"
      ],
      "execution_count": null,
      "outputs": []
    },
    {
      "cell_type": "code",
      "metadata": {
        "id": "gvIxx6Js85uj"
      },
      "source": [
        "X_train, X_test, y_train, y_test = train_test_split(X_tttb_tfidf, y_bin, test_size = 0.2, random_state = 1)"
      ],
      "execution_count": null,
      "outputs": []
    },
    {
      "cell_type": "code",
      "metadata": {
        "id": "yIbjRH9x85rf"
      },
      "source": [
        "#mn = MultinomialNB()\n",
        "svc = LinearSVC()\n",
        "clf = OneVsRestClassifier(svc)\n",
        "clf.fit(X_train, y_train)\n",
        "y_pred = clf.predict(X_test)"
      ],
      "execution_count": null,
      "outputs": []
    },
    {
      "cell_type": "code",
      "metadata": {
        "id": "ZlgfBdpzduOH"
      },
      "source": [
        "# Save the model\n",
        "pickle.dump(clf, open('/content/drive/My Drive/Colab Notebooks/data_pickle/model.pickle', 'wb'))"
      ],
      "execution_count": null,
      "outputs": []
    },
    {
      "cell_type": "code",
      "metadata": {
        "id": "s-LPdrVb85ns",
        "outputId": "c7d83861-6e1d-4192-c5f1-47a62f7787c3",
        "colab": {
          "base_uri": "https://localhost:8080/",
          "height": 33
        }
      },
      "source": [
        "type(X_test)"
      ],
      "execution_count": null,
      "outputs": [
        {
          "output_type": "execute_result",
          "data": {
            "text/plain": [
              "scipy.sparse.csr.csr_matrix"
            ]
          },
          "metadata": {
            "tags": []
          },
          "execution_count": 39
        }
      ]
    },
    {
      "cell_type": "code",
      "metadata": {
        "id": "9FGY0ZF485gq"
      },
      "source": [
        "#test\n",
        "title = \"Language Java programmation class ?\"\n",
        "body = \"Language Java for progammation is very useful. Javadoc for object programmation and java developpers. Java.\"\n",
        "#title = \"SQl with mysql request error sql sql sql\"\n",
        "#body = \"I have an error when I launch my request mysql. The sql request is : SELECT name, firstname from table where condition1 = blablabla group by. Do you have an udea ? thanks in advance. \"\n",
        "\n",
        "test_df = pd.DataFrame({'title_title_title_body': [title + title + body]},\n",
        "                      index = ['1'])\n",
        "test_df['title_title_title_body'] = test_df['title_title_title_body'].apply(lambda x: preprocessing_text(x))\n",
        "#test_df['title_title_title_body'] = test_df['title_title_title_body'].apply(lambda x: keep_nouns_only(x))\n",
        "test_df['title_title_title_body'] = test_df['title_title_title_body'].apply(lambda x: lemmatization(x))"
      ],
      "execution_count": null,
      "outputs": []
    },
    {
      "cell_type": "code",
      "metadata": {
        "id": "u7tPfOV9uJTN",
        "outputId": "8e33aac7-7c56-45c0-ccb3-53845f231229",
        "colab": {
          "base_uri": "https://localhost:8080/",
          "height": 50
        }
      },
      "source": [
        "test_df['title_title_title_body']"
      ],
      "execution_count": null,
      "outputs": [
        {
          "output_type": "execute_result",
          "data": {
            "text/plain": [
              "1    language java programmaion class language java...\n",
              "Name: title_title_title_body, dtype: object"
            ]
          },
          "metadata": {
            "tags": []
          },
          "execution_count": 41
        }
      ]
    },
    {
      "cell_type": "code",
      "metadata": {
        "id": "BZVYhzZSL5Mw"
      },
      "source": [
        "X_test_1 = vectorizer_tfidf.transform(test_df['title_title_title_body'])"
      ],
      "execution_count": null,
      "outputs": []
    },
    {
      "cell_type": "code",
      "metadata": {
        "id": "CiGt_Apxu-LO"
      },
      "source": [
        "#X_test_1.toarray()"
      ],
      "execution_count": null,
      "outputs": []
    },
    {
      "cell_type": "code",
      "metadata": {
        "id": "xxkLsSEpMPU6"
      },
      "source": [
        "y_pred = clf.predict(X_test_1)"
      ],
      "execution_count": null,
      "outputs": []
    },
    {
      "cell_type": "code",
      "metadata": {
        "id": "dWNwO6qZMkw7",
        "outputId": "216c892b-8777-4aed-f04e-c5a913bc282a",
        "colab": {
          "base_uri": "https://localhost:8080/",
          "height": 33
        }
      },
      "source": [
        "print(y_pred)"
      ],
      "execution_count": null,
      "outputs": [
        {
          "output_type": "stream",
          "text": [
            "  (0, 100)\t1\n"
          ],
          "name": "stdout"
        }
      ]
    },
    {
      "cell_type": "code",
      "metadata": {
        "id": "JSDgVPHeOmqx"
      },
      "source": [
        "result = vectorizer_target.inverse_transform(y_pred)"
      ],
      "execution_count": null,
      "outputs": []
    },
    {
      "cell_type": "code",
      "metadata": {
        "id": "EDu3TPrQO3VU",
        "outputId": "7b1ea372-511a-4851-aae3-5df40ce5b752",
        "colab": {
          "base_uri": "https://localhost:8080/",
          "height": 33
        }
      },
      "source": [
        "print(result)"
      ],
      "execution_count": null,
      "outputs": [
        {
          "output_type": "stream",
          "text": [
            "[array(['java'], dtype='<U20')]\n"
          ],
          "name": "stdout"
        }
      ]
    }
  ]
}